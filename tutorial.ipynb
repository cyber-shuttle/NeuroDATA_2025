{
 "cells": [
  {
   "cell_type": "markdown",
   "id": "fdda4a23-9cc3-464c-827e-473b07af3daf",
   "metadata": {},
   "source": [
    "# Computing with Oscillators: A Speech Demo\n",
    "\n",
    "* author: Nand Chandravadia\n",
    "\n",
    "***\n",
    "\n",
    "This tutorial notebook is organized around three main concepts:\n",
    "\n",
    "- **Part 1: Speech Data**\n",
    "- **Part 2: Oscillator Model**\n",
    "- **Part 3: (State-Space) Analysis**"
   ]
  },
  {
   "cell_type": "markdown",
   "id": "070dd945-3ace-46ac-99df-ae42f4ea43fd",
   "metadata": {},
   "source": [
    "## Part 1: Speech Data"
   ]
  }
 ],
 "metadata": {
  "kernelspec": {
   "display_name": "Python 3 (ipykernel)",
   "language": "python",
   "name": "python3"
  },
  "language_info": {
   "codemirror_mode": {
    "name": "ipython",
    "version": 3
   },
   "file_extension": ".py",
   "mimetype": "text/x-python",
   "name": "python",
   "nbconvert_exporter": "python",
   "pygments_lexer": "ipython3",
   "version": "3.10.12"
  }
 },
 "nbformat": 4,
 "nbformat_minor": 5
}
